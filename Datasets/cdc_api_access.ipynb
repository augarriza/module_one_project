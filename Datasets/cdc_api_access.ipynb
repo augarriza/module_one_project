{
 "cells": [
  {
   "cell_type": "markdown",
   "metadata": {},
   "source": [
    "We are getting the provisional death counts for Coronavirus via API through data.cdc.gov\n"
   ]
  },
  {
   "cell_type": "code",
   "execution_count": 2,
   "metadata": {},
   "outputs": [],
   "source": [
    "import pandas as pd\n",
    "import requests\n",
    "import json"
   ]
  },
  {
   "cell_type": "code",
   "execution_count": 3,
   "metadata": {},
   "outputs": [],
   "source": [
    "url = \"https://data.cdc.gov/resource/hc4f-j6nb.json\"\n",
    "response = requests.get(url)\n"
   ]
  },
  {
   "cell_type": "code",
   "execution_count": 4,
   "metadata": {},
   "outputs": [],
   "source": [
    "r_js = response.json()"
   ]
  },
  {
   "cell_type": "markdown",
   "metadata": {},
   "source": [
    "We pour our data into a dataframe"
   ]
  },
  {
   "cell_type": "code",
   "execution_count": 5,
   "metadata": {},
   "outputs": [
    {
     "data": {
      "text/html": [
       "<div>\n",
       "<style scoped>\n",
       "    .dataframe tbody tr th:only-of-type {\n",
       "        vertical-align: middle;\n",
       "    }\n",
       "\n",
       "    .dataframe tbody tr th {\n",
       "        vertical-align: top;\n",
       "    }\n",
       "\n",
       "    .dataframe thead th {\n",
       "        text-align: right;\n",
       "    }\n",
       "</style>\n",
       "<table border=\"1\" class=\"dataframe\">\n",
       "  <thead>\n",
       "    <tr style=\"text-align: right;\">\n",
       "      <th></th>\n",
       "      <th>group</th>\n",
       "      <th>indicator</th>\n",
       "      <th>covid_deaths</th>\n",
       "      <th>total_deaths</th>\n",
       "      <th>percent_expected_deaths</th>\n",
       "      <th>pneumonia_deaths</th>\n",
       "      <th>pneumonia_and_covid_deaths</th>\n",
       "    </tr>\n",
       "  </thead>\n",
       "  <tbody>\n",
       "    <tr>\n",
       "      <th>0</th>\n",
       "      <td>By week</td>\n",
       "      <td>Total Deaths</td>\n",
       "      <td>2214</td>\n",
       "      <td>476602</td>\n",
       "      <td>0.83</td>\n",
       "      <td>27131</td>\n",
       "      <td>916</td>\n",
       "    </tr>\n",
       "    <tr>\n",
       "      <th>1</th>\n",
       "      <td>By week</td>\n",
       "      <td>2/1/2020</td>\n",
       "      <td>0</td>\n",
       "      <td>56111</td>\n",
       "      <td>0.95</td>\n",
       "      <td>2995</td>\n",
       "      <td>0</td>\n",
       "    </tr>\n",
       "    <tr>\n",
       "      <th>2</th>\n",
       "      <td>By week</td>\n",
       "      <td>2/8/2020</td>\n",
       "      <td>0</td>\n",
       "      <td>56295</td>\n",
       "      <td>0.94</td>\n",
       "      <td>2989</td>\n",
       "      <td>0</td>\n",
       "    </tr>\n",
       "    <tr>\n",
       "      <th>3</th>\n",
       "      <td>By week</td>\n",
       "      <td>2/15/2020</td>\n",
       "      <td>0</td>\n",
       "      <td>54575</td>\n",
       "      <td>0.93</td>\n",
       "      <td>2874</td>\n",
       "      <td>0</td>\n",
       "    </tr>\n",
       "    <tr>\n",
       "      <th>4</th>\n",
       "      <td>By week</td>\n",
       "      <td>2/22/2020</td>\n",
       "      <td>0</td>\n",
       "      <td>54208</td>\n",
       "      <td>0.93</td>\n",
       "      <td>2845</td>\n",
       "      <td>0</td>\n",
       "    </tr>\n",
       "  </tbody>\n",
       "</table>\n",
       "</div>"
      ],
      "text/plain": [
       "     group     indicator covid_deaths total_deaths percent_expected_deaths  \\\n",
       "0  By week  Total Deaths         2214       476602                    0.83   \n",
       "1  By week      2/1/2020            0        56111                    0.95   \n",
       "2  By week      2/8/2020            0        56295                    0.94   \n",
       "3  By week     2/15/2020            0        54575                    0.93   \n",
       "4  By week     2/22/2020            0        54208                    0.93   \n",
       "\n",
       "  pneumonia_deaths pneumonia_and_covid_deaths  \n",
       "0            27131                        916  \n",
       "1             2995                          0  \n",
       "2             2989                          0  \n",
       "3             2874                          0  \n",
       "4             2845                          0  "
      ]
     },
     "execution_count": 5,
     "metadata": {},
     "output_type": "execute_result"
    }
   ],
   "source": [
    "df_dac = pd.DataFrame(r_js)\n",
    "df_dac.head()"
   ]
  },
  {
   "cell_type": "code",
   "execution_count": 6,
   "metadata": {},
   "outputs": [
    {
     "data": {
      "text/plain": [
       "Index(['group', 'indicator', 'covid_deaths', 'total_deaths',\n",
       "       'percent_expected_deaths', 'pneumonia_deaths',\n",
       "       'pneumonia_and_covid_deaths'],\n",
       "      dtype='object')"
      ]
     },
     "execution_count": 6,
     "metadata": {},
     "output_type": "execute_result"
    }
   ],
   "source": [
    "df_dac.columns"
   ]
  },
  {
   "cell_type": "markdown",
   "metadata": {},
   "source": [
    "Now we are gonna create a new dataframe with only the columns we are interested in.\n",
    "We´ll name it dealca (deaths_all_causes)"
   ]
  },
  {
   "cell_type": "code",
   "execution_count": 7,
   "metadata": {},
   "outputs": [
    {
     "data": {
      "text/html": [
       "<div>\n",
       "<style scoped>\n",
       "    .dataframe tbody tr th:only-of-type {\n",
       "        vertical-align: middle;\n",
       "    }\n",
       "\n",
       "    .dataframe tbody tr th {\n",
       "        vertical-align: top;\n",
       "    }\n",
       "\n",
       "    .dataframe thead th {\n",
       "        text-align: right;\n",
       "    }\n",
       "</style>\n",
       "<table border=\"1\" class=\"dataframe\">\n",
       "  <thead>\n",
       "    <tr style=\"text-align: right;\">\n",
       "      <th></th>\n",
       "      <th>group</th>\n",
       "      <th>indicator</th>\n",
       "      <th>covid_deaths</th>\n",
       "      <th>total_deaths</th>\n",
       "    </tr>\n",
       "  </thead>\n",
       "  <tbody>\n",
       "    <tr>\n",
       "      <th>0</th>\n",
       "      <td>By week</td>\n",
       "      <td>Total Deaths</td>\n",
       "      <td>2214</td>\n",
       "      <td>476602</td>\n",
       "    </tr>\n",
       "    <tr>\n",
       "      <th>1</th>\n",
       "      <td>By week</td>\n",
       "      <td>2/1/2020</td>\n",
       "      <td>0</td>\n",
       "      <td>56111</td>\n",
       "    </tr>\n",
       "    <tr>\n",
       "      <th>2</th>\n",
       "      <td>By week</td>\n",
       "      <td>2/8/2020</td>\n",
       "      <td>0</td>\n",
       "      <td>56295</td>\n",
       "    </tr>\n",
       "    <tr>\n",
       "      <th>3</th>\n",
       "      <td>By week</td>\n",
       "      <td>2/15/2020</td>\n",
       "      <td>0</td>\n",
       "      <td>54575</td>\n",
       "    </tr>\n",
       "    <tr>\n",
       "      <th>4</th>\n",
       "      <td>By week</td>\n",
       "      <td>2/22/2020</td>\n",
       "      <td>0</td>\n",
       "      <td>54208</td>\n",
       "    </tr>\n",
       "  </tbody>\n",
       "</table>\n",
       "</div>"
      ],
      "text/plain": [
       "     group     indicator covid_deaths total_deaths\n",
       "0  By week  Total Deaths         2214       476602\n",
       "1  By week      2/1/2020            0        56111\n",
       "2  By week      2/8/2020            0        56295\n",
       "3  By week     2/15/2020            0        54575\n",
       "4  By week     2/22/2020            0        54208"
      ]
     },
     "execution_count": 7,
     "metadata": {},
     "output_type": "execute_result"
    }
   ],
   "source": [
    "cols = ['group', 'indicator', 'covid_deaths', 'total_deaths']\n",
    "df_dealca = pd.DataFrame(columns=cols)\n",
    "df_dealca['group'] = df_dac['group']\n",
    "df_dealca['indicator'] = df_dac['indicator']\n",
    "df_dealca['covid_deaths'] = df_dac['covid_deaths']\n",
    "df_dealca['total_deaths'] = df_dac['total_deaths']\n",
    "\n",
    "df_dealca.head()"
   ]
  },
  {
   "cell_type": "markdown",
   "metadata": {},
   "source": [
    "The next step is to create two different subsets, one with the data grouped by state and another by group age"
   ]
  },
  {
   "cell_type": "code",
   "execution_count": 48,
   "metadata": {},
   "outputs": [],
   "source": [
    "df_dealca_state = df_dealca.loc[df_dealca['group'] == \"By state\", ['indicator', 'covid_deaths', 'total_deaths']]\n",
    "df_dealca_age = df_dealca.loc[df_dealca['group'] == \"By age\", ['indicator', 'covid_deaths', 'total_deaths']]\n",
    "\n",
    "df_dealca_state = df_dealca_state.iloc[1:]\n",
    "\n",
    "df_dealca_state = df_dealca_state.reset_index(drop=True)\n",
    "df_dealca_age = df_dealca_age.reset_index(drop=True)\n"
   ]
  },
  {
   "cell_type": "markdown",
   "metadata": {},
   "source": [
    "We save both dataframes in pickles"
   ]
  },
  {
   "cell_type": "code",
   "execution_count": 49,
   "metadata": {},
   "outputs": [],
   "source": [
    "df_dealca_state.to_pickle(\"deaths_all_causes_bystate.pkl\")\n",
    "df_dealca_age.to_pickle(\"deaths_allcauses_byage.pkl\")"
   ]
  },
  {
   "cell_type": "markdown",
   "metadata": {},
   "source": [
    "We verify that it works"
   ]
  },
  {
   "cell_type": "code",
   "execution_count": 50,
   "metadata": {
    "scrolled": true
   },
   "outputs": [
    {
     "data": {
      "text/html": [
       "<div>\n",
       "<style scoped>\n",
       "    .dataframe tbody tr th:only-of-type {\n",
       "        vertical-align: middle;\n",
       "    }\n",
       "\n",
       "    .dataframe tbody tr th {\n",
       "        vertical-align: top;\n",
       "    }\n",
       "\n",
       "    .dataframe thead th {\n",
       "        text-align: right;\n",
       "    }\n",
       "</style>\n",
       "<table border=\"1\" class=\"dataframe\">\n",
       "  <thead>\n",
       "    <tr style=\"text-align: right;\">\n",
       "      <th></th>\n",
       "      <th>indicator</th>\n",
       "      <th>covid_deaths</th>\n",
       "      <th>total_deaths</th>\n",
       "    </tr>\n",
       "  </thead>\n",
       "  <tbody>\n",
       "    <tr>\n",
       "      <th>0</th>\n",
       "      <td>Alabama</td>\n",
       "      <td>2</td>\n",
       "      <td>8589</td>\n",
       "    </tr>\n",
       "    <tr>\n",
       "      <th>1</th>\n",
       "      <td>Alaska</td>\n",
       "      <td>0</td>\n",
       "      <td>600</td>\n",
       "    </tr>\n",
       "    <tr>\n",
       "      <th>2</th>\n",
       "      <td>Arizona</td>\n",
       "      <td>0</td>\n",
       "      <td>10540</td>\n",
       "    </tr>\n",
       "    <tr>\n",
       "      <th>3</th>\n",
       "      <td>Arkansas</td>\n",
       "      <td>0</td>\n",
       "      <td>5680</td>\n",
       "    </tr>\n",
       "    <tr>\n",
       "      <th>4</th>\n",
       "      <td>California</td>\n",
       "      <td>98</td>\n",
       "      <td>49660</td>\n",
       "    </tr>\n",
       "  </tbody>\n",
       "</table>\n",
       "</div>"
      ],
      "text/plain": [
       "    indicator covid_deaths total_deaths\n",
       "0     Alabama            2         8589\n",
       "1      Alaska            0          600\n",
       "2     Arizona            0        10540\n",
       "3    Arkansas            0         5680\n",
       "4  California           98        49660"
      ]
     },
     "execution_count": 50,
     "metadata": {},
     "output_type": "execute_result"
    }
   ],
   "source": [
    "df_states = pd.read_pickle(\"deaths_all_causes_bystate.pkl\")\n",
    "df_states.head()"
   ]
  },
  {
   "cell_type": "code",
   "execution_count": 51,
   "metadata": {},
   "outputs": [
    {
     "data": {
      "text/html": [
       "<div>\n",
       "<style scoped>\n",
       "    .dataframe tbody tr th:only-of-type {\n",
       "        vertical-align: middle;\n",
       "    }\n",
       "\n",
       "    .dataframe tbody tr th {\n",
       "        vertical-align: top;\n",
       "    }\n",
       "\n",
       "    .dataframe thead th {\n",
       "        text-align: right;\n",
       "    }\n",
       "</style>\n",
       "<table border=\"1\" class=\"dataframe\">\n",
       "  <thead>\n",
       "    <tr style=\"text-align: right;\">\n",
       "      <th></th>\n",
       "      <th>indicator</th>\n",
       "      <th>covid_deaths</th>\n",
       "      <th>total_deaths</th>\n",
       "    </tr>\n",
       "  </thead>\n",
       "  <tbody>\n",
       "    <tr>\n",
       "      <th>0</th>\n",
       "      <td>All ages</td>\n",
       "      <td>2214</td>\n",
       "      <td>476602</td>\n",
       "    </tr>\n",
       "    <tr>\n",
       "      <th>1</th>\n",
       "      <td>Under 1 year</td>\n",
       "      <td>0</td>\n",
       "      <td>2529</td>\n",
       "    </tr>\n",
       "    <tr>\n",
       "      <th>2</th>\n",
       "      <td>1-4 years</td>\n",
       "      <td>1</td>\n",
       "      <td>517</td>\n",
       "    </tr>\n",
       "    <tr>\n",
       "      <th>3</th>\n",
       "      <td>5-14 years</td>\n",
       "      <td>0</td>\n",
       "      <td>749</td>\n",
       "    </tr>\n",
       "    <tr>\n",
       "      <th>4</th>\n",
       "      <td>15-24 years</td>\n",
       "      <td>1</td>\n",
       "      <td>4275</td>\n",
       "    </tr>\n",
       "  </tbody>\n",
       "</table>\n",
       "</div>"
      ],
      "text/plain": [
       "      indicator covid_deaths total_deaths\n",
       "0      All ages         2214       476602\n",
       "1  Under 1 year            0         2529\n",
       "2     1-4 years            1          517\n",
       "3    5-14 years            0          749\n",
       "4   15-24 years            1         4275"
      ]
     },
     "execution_count": 51,
     "metadata": {},
     "output_type": "execute_result"
    }
   ],
   "source": [
    "df_ages = pd.read_pickle(\"deaths_allcauses_byage.pkl\")\n",
    "df_ages.head()"
   ]
  },
  {
   "cell_type": "markdown",
   "metadata": {},
   "source": [
    "We also save the our initial dataframe, in case we want to access data grouped by week later on"
   ]
  },
  {
   "cell_type": "code",
   "execution_count": 52,
   "metadata": {},
   "outputs": [
    {
     "data": {
      "text/html": [
       "<div>\n",
       "<style scoped>\n",
       "    .dataframe tbody tr th:only-of-type {\n",
       "        vertical-align: middle;\n",
       "    }\n",
       "\n",
       "    .dataframe tbody tr th {\n",
       "        vertical-align: top;\n",
       "    }\n",
       "\n",
       "    .dataframe thead th {\n",
       "        text-align: right;\n",
       "    }\n",
       "</style>\n",
       "<table border=\"1\" class=\"dataframe\">\n",
       "  <thead>\n",
       "    <tr style=\"text-align: right;\">\n",
       "      <th></th>\n",
       "      <th>group</th>\n",
       "      <th>indicator</th>\n",
       "      <th>covid_deaths</th>\n",
       "      <th>total_deaths</th>\n",
       "    </tr>\n",
       "  </thead>\n",
       "  <tbody>\n",
       "    <tr>\n",
       "      <th>0</th>\n",
       "      <td>By week</td>\n",
       "      <td>Total Deaths</td>\n",
       "      <td>2214</td>\n",
       "      <td>476602</td>\n",
       "    </tr>\n",
       "    <tr>\n",
       "      <th>1</th>\n",
       "      <td>By week</td>\n",
       "      <td>2/1/2020</td>\n",
       "      <td>0</td>\n",
       "      <td>56111</td>\n",
       "    </tr>\n",
       "    <tr>\n",
       "      <th>2</th>\n",
       "      <td>By week</td>\n",
       "      <td>2/8/2020</td>\n",
       "      <td>0</td>\n",
       "      <td>56295</td>\n",
       "    </tr>\n",
       "    <tr>\n",
       "      <th>3</th>\n",
       "      <td>By week</td>\n",
       "      <td>2/15/2020</td>\n",
       "      <td>0</td>\n",
       "      <td>54575</td>\n",
       "    </tr>\n",
       "    <tr>\n",
       "      <th>4</th>\n",
       "      <td>By week</td>\n",
       "      <td>2/22/2020</td>\n",
       "      <td>0</td>\n",
       "      <td>54208</td>\n",
       "    </tr>\n",
       "  </tbody>\n",
       "</table>\n",
       "</div>"
      ],
      "text/plain": [
       "     group     indicator covid_deaths total_deaths\n",
       "0  By week  Total Deaths         2214       476602\n",
       "1  By week      2/1/2020            0        56111\n",
       "2  By week      2/8/2020            0        56295\n",
       "3  By week     2/15/2020            0        54575\n",
       "4  By week     2/22/2020            0        54208"
      ]
     },
     "execution_count": 52,
     "metadata": {},
     "output_type": "execute_result"
    }
   ],
   "source": [
    "df_dealca.to_pickle(\"cdc_deaths_all_causes.pkl\")\n",
    "df = pd.read_pickle(\"cdc_deaths_all_causes.pkl\")\n",
    "df.head()"
   ]
  },
  {
   "cell_type": "code",
   "execution_count": null,
   "metadata": {},
   "outputs": [],
   "source": []
  }
 ],
 "metadata": {
  "kernelspec": {
   "display_name": "Python 3",
   "language": "python",
   "name": "python3"
  },
  "language_info": {
   "codemirror_mode": {
    "name": "ipython",
    "version": 3
   },
   "file_extension": ".py",
   "mimetype": "text/x-python",
   "name": "python",
   "nbconvert_exporter": "python",
   "pygments_lexer": "ipython3",
   "version": "3.7.6"
  }
 },
 "nbformat": 4,
 "nbformat_minor": 4
}
