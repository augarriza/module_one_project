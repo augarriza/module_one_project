{
 "cells": [
  {
   "cell_type": "markdown",
   "metadata": {},
   "source": [
    "# Converting NY Times and Mortality datasets to data frames"
   ]
  },
  {
   "cell_type": "code",
   "execution_count": 1,
   "metadata": {},
   "outputs": [],
   "source": [
    "import pandas as pd"
   ]
  },
  {
   "cell_type": "markdown",
   "metadata": {},
   "source": [
    "## NY Times csv\n",
    " - convert csv to df\n",
    " - convert date to datetime\n",
    " - select last day of March for each state, since data is cumulative\n",
    " - pickle the data frame in the datasets folder "
   ]
  },
  {
   "cell_type": "code",
   "execution_count": 21,
   "metadata": {},
   "outputs": [],
   "source": [
    "ny_times_df = pd.read_csv(\"datasets/nytimes_cumulative_covid_per_state.csv\")"
   ]
  },
  {
   "cell_type": "code",
   "execution_count": 22,
   "metadata": {},
   "outputs": [
    {
     "data": {
      "text/plain": [
       "date      object\n",
       "state     object\n",
       "fips       int64\n",
       "cases      int64\n",
       "deaths     int64\n",
       "dtype: object"
      ]
     },
     "execution_count": 22,
     "metadata": {},
     "output_type": "execute_result"
    }
   ],
   "source": [
    "ny_times_df.dtypes"
   ]
  },
  {
   "cell_type": "code",
   "execution_count": 23,
   "metadata": {},
   "outputs": [],
   "source": [
    "ny_times_df[\"date\"] = pd.to_datetime(ny_times_df[\"date\"])"
   ]
  },
  {
   "cell_type": "code",
   "execution_count": null,
   "metadata": {},
   "outputs": [],
   "source": [
    "df.loc[df['column_name'] == some_value]\n"
   ]
  },
  {
   "cell_type": "code",
   "execution_count": 47,
   "metadata": {},
   "outputs": [],
   "source": [
    "ny_times_final = ny_times_df.loc[ny_times_df[\"date\"]==\"2020-03-31\"]"
   ]
  },
  {
   "cell_type": "code",
   "execution_count": 49,
   "metadata": {},
   "outputs": [],
   "source": [
    "ny_times_final = ny_times_final.reset_index(drop=True)"
   ]
  },
  {
   "cell_type": "code",
   "execution_count": 51,
   "metadata": {},
   "outputs": [],
   "source": [
    "ny_times_final.to_pickle(\"Datasets/nytimes.pkl\")"
   ]
  },
  {
   "cell_type": "markdown",
   "metadata": {},
   "source": [
    "## Mortality txt\n",
    "- convert txt to df\n",
    "- clean df:\n",
    "    - remove columns that have no values (deaths, population, crude, rate)\n",
    "    - create new df from `total` rows that perform aggregation \n",
    "    - clean new df by deleting repeated columns and changing column names\n",
    "- pickle the data frame in datasets folder"
   ]
  },
  {
   "cell_type": "code",
   "execution_count": 61,
   "metadata": {},
   "outputs": [],
   "source": [
    "mortality_df = pd.read_table(\"Datasets/Mortality_March-February_2013-2018.txt\", delim_whitespace=True)"
   ]
  },
  {
   "cell_type": "code",
   "execution_count": 105,
   "metadata": {},
   "outputs": [
    {
     "data": {
      "text/html": [
       "<div>\n",
       "<style scoped>\n",
       "    .dataframe tbody tr th:only-of-type {\n",
       "        vertical-align: middle;\n",
       "    }\n",
       "\n",
       "    .dataframe tbody tr th {\n",
       "        vertical-align: top;\n",
       "    }\n",
       "\n",
       "    .dataframe thead th {\n",
       "        text-align: right;\n",
       "    }\n",
       "</style>\n",
       "<table border=\"1\" class=\"dataframe\">\n",
       "  <thead>\n",
       "    <tr style=\"text-align: right;\">\n",
       "      <th></th>\n",
       "      <th>Notes</th>\n",
       "      <th>State</th>\n",
       "      <th>State Code</th>\n",
       "      <th>Year</th>\n",
       "      <th>Year Code</th>\n",
       "      <th>Month</th>\n",
       "      <th>Month Code</th>\n",
       "    </tr>\n",
       "  </thead>\n",
       "  <tbody>\n",
       "    <tr>\n",
       "      <th>0</th>\n",
       "      <td>Alabama</td>\n",
       "      <td>01</td>\n",
       "      <td>2013</td>\n",
       "      <td>2013</td>\n",
       "      <td>Feb., 2013</td>\n",
       "      <td>2013/02</td>\n",
       "      <td>4147</td>\n",
       "    </tr>\n",
       "    <tr>\n",
       "      <th>1</th>\n",
       "      <td>Alabama</td>\n",
       "      <td>01</td>\n",
       "      <td>2013</td>\n",
       "      <td>2013</td>\n",
       "      <td>Mar., 2013</td>\n",
       "      <td>2013/03</td>\n",
       "      <td>4548</td>\n",
       "    </tr>\n",
       "    <tr>\n",
       "      <th>2</th>\n",
       "      <td>Total</td>\n",
       "      <td>Alabama</td>\n",
       "      <td>01</td>\n",
       "      <td>2013</td>\n",
       "      <td>2013</td>\n",
       "      <td>8695</td>\n",
       "      <td>Not</td>\n",
       "    </tr>\n",
       "    <tr>\n",
       "      <th>3</th>\n",
       "      <td>Alabama</td>\n",
       "      <td>01</td>\n",
       "      <td>2014</td>\n",
       "      <td>2014</td>\n",
       "      <td>Feb., 2014</td>\n",
       "      <td>2014/02</td>\n",
       "      <td>3966</td>\n",
       "    </tr>\n",
       "    <tr>\n",
       "      <th>4</th>\n",
       "      <td>Alabama</td>\n",
       "      <td>01</td>\n",
       "      <td>2014</td>\n",
       "      <td>2014</td>\n",
       "      <td>Mar., 2014</td>\n",
       "      <td>2014/03</td>\n",
       "      <td>4288</td>\n",
       "    </tr>\n",
       "    <tr>\n",
       "      <th>5</th>\n",
       "      <td>Total</td>\n",
       "      <td>Alabama</td>\n",
       "      <td>01</td>\n",
       "      <td>2014</td>\n",
       "      <td>2014</td>\n",
       "      <td>8254</td>\n",
       "      <td>Not</td>\n",
       "    </tr>\n",
       "    <tr>\n",
       "      <th>6</th>\n",
       "      <td>Alabama</td>\n",
       "      <td>01</td>\n",
       "      <td>2015</td>\n",
       "      <td>2015</td>\n",
       "      <td>Feb., 2015</td>\n",
       "      <td>2015/02</td>\n",
       "      <td>4447</td>\n",
       "    </tr>\n",
       "    <tr>\n",
       "      <th>7</th>\n",
       "      <td>Alabama</td>\n",
       "      <td>01</td>\n",
       "      <td>2015</td>\n",
       "      <td>2015</td>\n",
       "      <td>Mar., 2015</td>\n",
       "      <td>2015/03</td>\n",
       "      <td>4809</td>\n",
       "    </tr>\n",
       "    <tr>\n",
       "      <th>8</th>\n",
       "      <td>Total</td>\n",
       "      <td>Alabama</td>\n",
       "      <td>01</td>\n",
       "      <td>2015</td>\n",
       "      <td>2015</td>\n",
       "      <td>9256</td>\n",
       "      <td>Not</td>\n",
       "    </tr>\n",
       "    <tr>\n",
       "      <th>9</th>\n",
       "      <td>Alabama</td>\n",
       "      <td>01</td>\n",
       "      <td>2016</td>\n",
       "      <td>2016</td>\n",
       "      <td>Feb., 2016</td>\n",
       "      <td>2016/02</td>\n",
       "      <td>4428</td>\n",
       "    </tr>\n",
       "  </tbody>\n",
       "</table>\n",
       "</div>"
      ],
      "text/plain": [
       "     Notes    State State Code  Year   Year Code    Month Month Code\n",
       "0  Alabama       01       2013  2013  Feb., 2013  2013/02       4147\n",
       "1  Alabama       01       2013  2013  Mar., 2013  2013/03       4548\n",
       "2    Total  Alabama         01  2013        2013     8695        Not\n",
       "3  Alabama       01       2014  2014  Feb., 2014  2014/02       3966\n",
       "4  Alabama       01       2014  2014  Mar., 2014  2014/03       4288\n",
       "5    Total  Alabama         01  2014        2014     8254        Not\n",
       "6  Alabama       01       2015  2015  Feb., 2015  2015/02       4447\n",
       "7  Alabama       01       2015  2015  Mar., 2015  2015/03       4809\n",
       "8    Total  Alabama         01  2015        2015     9256        Not\n",
       "9  Alabama       01       2016  2016  Feb., 2016  2016/02       4428"
      ]
     },
     "execution_count": 105,
     "metadata": {},
     "output_type": "execute_result"
    }
   ],
   "source": [
    "mortality_df.head(10)"
   ]
  },
  {
   "cell_type": "code",
   "execution_count": 67,
   "metadata": {},
   "outputs": [],
   "source": [
    "mortality_df = mortality_df.drop(columns=[\"Deaths\", \"Population\", \"Crude\", \"Rate\"])"
   ]
  },
  {
   "cell_type": "code",
   "execution_count": 73,
   "metadata": {},
   "outputs": [],
   "source": [
    "agg_df = mortality_df.loc[mortality_df[\"Notes\"]==\"Total\"]"
   ]
  },
  {
   "cell_type": "code",
   "execution_count": 78,
   "metadata": {},
   "outputs": [],
   "source": [
    "agg_df = agg_df.reset_index(drop=True)"
   ]
  },
  {
   "cell_type": "code",
   "execution_count": 89,
   "metadata": {},
   "outputs": [],
   "source": [
    "agg_df = agg_df.drop(columns=[\"Notes\", \"Month Code\"])"
   ]
  },
  {
   "cell_type": "markdown",
   "metadata": {},
   "source": [
    "Discovered that Total includes the state totals for the 5 year period. Decided to drop those rows by finding rows where values have been shifted, since there is no year indication"
   ]
  },
  {
   "cell_type": "code",
   "execution_count": 94,
   "metadata": {},
   "outputs": [],
   "source": [
    "agg_df = agg_df.loc[agg_df[\"Year Code\"]!=\"Not\"]"
   ]
  },
  {
   "cell_type": "code",
   "execution_count": 98,
   "metadata": {},
   "outputs": [],
   "source": [
    "agg_df = agg_df.reset_index(drop=True)"
   ]
  },
  {
   "cell_type": "code",
   "execution_count": 103,
   "metadata": {},
   "outputs": [
    {
     "data": {
      "text/html": [
       "<div>\n",
       "<style scoped>\n",
       "    .dataframe tbody tr th:only-of-type {\n",
       "        vertical-align: middle;\n",
       "    }\n",
       "\n",
       "    .dataframe tbody tr th {\n",
       "        vertical-align: top;\n",
       "    }\n",
       "\n",
       "    .dataframe thead th {\n",
       "        text-align: right;\n",
       "    }\n",
       "</style>\n",
       "<table border=\"1\" class=\"dataframe\">\n",
       "  <thead>\n",
       "    <tr style=\"text-align: right;\">\n",
       "      <th></th>\n",
       "      <th>State</th>\n",
       "      <th>State Code</th>\n",
       "      <th>Year</th>\n",
       "      <th>Deaths</th>\n",
       "    </tr>\n",
       "  </thead>\n",
       "  <tbody>\n",
       "    <tr>\n",
       "      <th>0</th>\n",
       "      <td>Alabama</td>\n",
       "      <td>01</td>\n",
       "      <td>2013</td>\n",
       "      <td>8695</td>\n",
       "    </tr>\n",
       "    <tr>\n",
       "      <th>1</th>\n",
       "      <td>Alabama</td>\n",
       "      <td>01</td>\n",
       "      <td>2014</td>\n",
       "      <td>8254</td>\n",
       "    </tr>\n",
       "    <tr>\n",
       "      <th>2</th>\n",
       "      <td>Alabama</td>\n",
       "      <td>01</td>\n",
       "      <td>2015</td>\n",
       "      <td>9256</td>\n",
       "    </tr>\n",
       "    <tr>\n",
       "      <th>3</th>\n",
       "      <td>Alabama</td>\n",
       "      <td>01</td>\n",
       "      <td>2016</td>\n",
       "      <td>9020</td>\n",
       "    </tr>\n",
       "    <tr>\n",
       "      <th>4</th>\n",
       "      <td>Alabama</td>\n",
       "      <td>01</td>\n",
       "      <td>2017</td>\n",
       "      <td>9030</td>\n",
       "    </tr>\n",
       "    <tr>\n",
       "      <th>...</th>\n",
       "      <td>...</td>\n",
       "      <td>...</td>\n",
       "      <td>...</td>\n",
       "      <td>...</td>\n",
       "    </tr>\n",
       "    <tr>\n",
       "      <th>301</th>\n",
       "      <td>Wyoming</td>\n",
       "      <td>56</td>\n",
       "      <td>2014</td>\n",
       "      <td>730</td>\n",
       "    </tr>\n",
       "    <tr>\n",
       "      <th>302</th>\n",
       "      <td>Wyoming</td>\n",
       "      <td>56</td>\n",
       "      <td>2015</td>\n",
       "      <td>825</td>\n",
       "    </tr>\n",
       "    <tr>\n",
       "      <th>303</th>\n",
       "      <td>Wyoming</td>\n",
       "      <td>56</td>\n",
       "      <td>2016</td>\n",
       "      <td>835</td>\n",
       "    </tr>\n",
       "    <tr>\n",
       "      <th>304</th>\n",
       "      <td>Wyoming</td>\n",
       "      <td>56</td>\n",
       "      <td>2017</td>\n",
       "      <td>825</td>\n",
       "    </tr>\n",
       "    <tr>\n",
       "      <th>305</th>\n",
       "      <td>Wyoming</td>\n",
       "      <td>56</td>\n",
       "      <td>2018</td>\n",
       "      <td>874</td>\n",
       "    </tr>\n",
       "  </tbody>\n",
       "</table>\n",
       "<p>306 rows × 4 columns</p>\n",
       "</div>"
      ],
      "text/plain": [
       "       State State Code  Year Deaths\n",
       "0    Alabama         01  2013   8695\n",
       "1    Alabama         01  2014   8254\n",
       "2    Alabama         01  2015   9256\n",
       "3    Alabama         01  2016   9020\n",
       "4    Alabama         01  2017   9030\n",
       "..       ...        ...   ...    ...\n",
       "301  Wyoming         56  2014    730\n",
       "302  Wyoming         56  2015    825\n",
       "303  Wyoming         56  2016    835\n",
       "304  Wyoming         56  2017    825\n",
       "305  Wyoming         56  2018    874\n",
       "\n",
       "[306 rows x 4 columns]"
      ]
     },
     "execution_count": 103,
     "metadata": {},
     "output_type": "execute_result"
    }
   ],
   "source": [
    "agg_df = agg_df.rename(columns={\"Month\":\"Deaths\"}).drop(columns=\"Year Code\")"
   ]
  },
  {
   "cell_type": "code",
   "execution_count": 104,
   "metadata": {},
   "outputs": [],
   "source": [
    "agg_df.to_pickle(\"Datasets/mortality_aggregation.pkl\")"
   ]
  }
 ],
 "metadata": {
  "kernelspec": {
   "display_name": "Python 3",
   "language": "python",
   "name": "python3"
  },
  "language_info": {
   "codemirror_mode": {
    "name": "ipython",
    "version": 3
   },
   "file_extension": ".py",
   "mimetype": "text/x-python",
   "name": "python",
   "nbconvert_exporter": "python",
   "pygments_lexer": "ipython3",
   "version": "3.7.6"
  }
 },
 "nbformat": 4,
 "nbformat_minor": 4
}
