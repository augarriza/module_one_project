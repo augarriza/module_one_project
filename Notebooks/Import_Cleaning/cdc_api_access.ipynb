{
 "cells": [
  {
   "cell_type": "markdown",
   "metadata": {},
   "source": [
    "We are getting the provisional death counts for Coronavirus via API through data.cdc.gov\n"
   ]
  },
  {
   "cell_type": "code",
   "execution_count": 1,
   "metadata": {},
   "outputs": [],
   "source": [
    "import pandas as pd\n",
    "import requests\n",
    "import json"
   ]
  },
  {
   "cell_type": "code",
   "execution_count": 2,
   "metadata": {},
   "outputs": [],
   "source": [
    "url = \"https://data.cdc.gov/resource/hc4f-j6nb.json\"\n",
    "response = requests.get(url)\n"
   ]
  },
  {
   "cell_type": "code",
   "execution_count": 3,
   "metadata": {},
   "outputs": [],
   "source": [
    "r_js = response.json()"
   ]
  },
  {
   "cell_type": "markdown",
   "metadata": {},
   "source": [
    "We pour our data into a dataframe"
   ]
  },
  {
   "cell_type": "code",
   "execution_count": 4,
   "metadata": {},
   "outputs": [
    {
     "data": {
      "text/html": [
       "<div>\n",
       "<style scoped>\n",
       "    .dataframe tbody tr th:only-of-type {\n",
       "        vertical-align: middle;\n",
       "    }\n",
       "\n",
       "    .dataframe tbody tr th {\n",
       "        vertical-align: top;\n",
       "    }\n",
       "\n",
       "    .dataframe thead th {\n",
       "        text-align: right;\n",
       "    }\n",
       "</style>\n",
       "<table border=\"1\" class=\"dataframe\">\n",
       "  <thead>\n",
       "    <tr style=\"text-align: right;\">\n",
       "      <th></th>\n",
       "      <th>group</th>\n",
       "      <th>indicator</th>\n",
       "      <th>covid_deaths</th>\n",
       "      <th>total_deaths</th>\n",
       "      <th>percent_expected_deaths</th>\n",
       "      <th>pneumonia_deaths</th>\n",
       "      <th>pneumonia_and_covid_deaths</th>\n",
       "    </tr>\n",
       "  </thead>\n",
       "  <tbody>\n",
       "    <tr>\n",
       "      <th>0</th>\n",
       "      <td>By week</td>\n",
       "      <td>Total Deaths</td>\n",
       "      <td>3307</td>\n",
       "      <td>490389</td>\n",
       "      <td>0.85</td>\n",
       "      <td>28475</td>\n",
       "      <td>1410</td>\n",
       "    </tr>\n",
       "    <tr>\n",
       "      <th>1</th>\n",
       "      <td>By week</td>\n",
       "      <td>2/1/2020</td>\n",
       "      <td>0</td>\n",
       "      <td>56266</td>\n",
       "      <td>0.95</td>\n",
       "      <td>3002</td>\n",
       "      <td>0</td>\n",
       "    </tr>\n",
       "    <tr>\n",
       "      <th>2</th>\n",
       "      <td>By week</td>\n",
       "      <td>2/8/2020</td>\n",
       "      <td>0</td>\n",
       "      <td>56587</td>\n",
       "      <td>0.95</td>\n",
       "      <td>3002</td>\n",
       "      <td>0</td>\n",
       "    </tr>\n",
       "    <tr>\n",
       "      <th>3</th>\n",
       "      <td>By week</td>\n",
       "      <td>2/15/2020</td>\n",
       "      <td>0</td>\n",
       "      <td>55189</td>\n",
       "      <td>0.94</td>\n",
       "      <td>2910</td>\n",
       "      <td>0</td>\n",
       "    </tr>\n",
       "    <tr>\n",
       "      <th>4</th>\n",
       "      <td>By week</td>\n",
       "      <td>2/22/2020</td>\n",
       "      <td>0</td>\n",
       "      <td>54761</td>\n",
       "      <td>0.94</td>\n",
       "      <td>2872</td>\n",
       "      <td>0</td>\n",
       "    </tr>\n",
       "  </tbody>\n",
       "</table>\n",
       "</div>"
      ],
      "text/plain": [
       "     group     indicator covid_deaths total_deaths percent_expected_deaths  \\\n",
       "0  By week  Total Deaths         3307       490389                    0.85   \n",
       "1  By week      2/1/2020            0        56266                    0.95   \n",
       "2  By week      2/8/2020            0        56587                    0.95   \n",
       "3  By week     2/15/2020            0        55189                    0.94   \n",
       "4  By week     2/22/2020            0        54761                    0.94   \n",
       "\n",
       "  pneumonia_deaths pneumonia_and_covid_deaths  \n",
       "0            28475                       1410  \n",
       "1             3002                          0  \n",
       "2             3002                          0  \n",
       "3             2910                          0  \n",
       "4             2872                          0  "
      ]
     },
     "execution_count": 4,
     "metadata": {},
     "output_type": "execute_result"
    }
   ],
   "source": [
    "df_dac = pd.DataFrame(r_js)\n",
    "df_dac.head()"
   ]
  },
  {
   "cell_type": "code",
   "execution_count": 5,
   "metadata": {},
   "outputs": [
    {
     "data": {
      "text/plain": [
       "Index(['group', 'indicator', 'covid_deaths', 'total_deaths',\n",
       "       'percent_expected_deaths', 'pneumonia_deaths',\n",
       "       'pneumonia_and_covid_deaths'],\n",
       "      dtype='object')"
      ]
     },
     "execution_count": 5,
     "metadata": {},
     "output_type": "execute_result"
    }
   ],
   "source": [
    "df_dac.columns"
   ]
  },
  {
   "cell_type": "markdown",
   "metadata": {},
   "source": [
    "Now we are gonna create a new dataframe with only the columns we are interested in.\n",
    "We´ll name it dealca (deaths_all_causes)"
   ]
  },
  {
   "cell_type": "code",
   "execution_count": 6,
   "metadata": {},
   "outputs": [
    {
     "data": {
      "text/html": [
       "<div>\n",
       "<style scoped>\n",
       "    .dataframe tbody tr th:only-of-type {\n",
       "        vertical-align: middle;\n",
       "    }\n",
       "\n",
       "    .dataframe tbody tr th {\n",
       "        vertical-align: top;\n",
       "    }\n",
       "\n",
       "    .dataframe thead th {\n",
       "        text-align: right;\n",
       "    }\n",
       "</style>\n",
       "<table border=\"1\" class=\"dataframe\">\n",
       "  <thead>\n",
       "    <tr style=\"text-align: right;\">\n",
       "      <th></th>\n",
       "      <th>group</th>\n",
       "      <th>indicator</th>\n",
       "      <th>covid_deaths</th>\n",
       "      <th>total_deaths</th>\n",
       "    </tr>\n",
       "  </thead>\n",
       "  <tbody>\n",
       "    <tr>\n",
       "      <th>0</th>\n",
       "      <td>By week</td>\n",
       "      <td>Total Deaths</td>\n",
       "      <td>3307</td>\n",
       "      <td>490389</td>\n",
       "    </tr>\n",
       "    <tr>\n",
       "      <th>1</th>\n",
       "      <td>By week</td>\n",
       "      <td>2/1/2020</td>\n",
       "      <td>0</td>\n",
       "      <td>56266</td>\n",
       "    </tr>\n",
       "    <tr>\n",
       "      <th>2</th>\n",
       "      <td>By week</td>\n",
       "      <td>2/8/2020</td>\n",
       "      <td>0</td>\n",
       "      <td>56587</td>\n",
       "    </tr>\n",
       "    <tr>\n",
       "      <th>3</th>\n",
       "      <td>By week</td>\n",
       "      <td>2/15/2020</td>\n",
       "      <td>0</td>\n",
       "      <td>55189</td>\n",
       "    </tr>\n",
       "    <tr>\n",
       "      <th>4</th>\n",
       "      <td>By week</td>\n",
       "      <td>2/22/2020</td>\n",
       "      <td>0</td>\n",
       "      <td>54761</td>\n",
       "    </tr>\n",
       "  </tbody>\n",
       "</table>\n",
       "</div>"
      ],
      "text/plain": [
       "     group     indicator covid_deaths total_deaths\n",
       "0  By week  Total Deaths         3307       490389\n",
       "1  By week      2/1/2020            0        56266\n",
       "2  By week      2/8/2020            0        56587\n",
       "3  By week     2/15/2020            0        55189\n",
       "4  By week     2/22/2020            0        54761"
      ]
     },
     "execution_count": 6,
     "metadata": {},
     "output_type": "execute_result"
    }
   ],
   "source": [
    "cols = ['group', 'indicator', 'covid_deaths', 'total_deaths']\n",
    "df_dealca = pd.DataFrame(columns=cols)\n",
    "df_dealca['group'] = df_dac['group']\n",
    "df_dealca['indicator'] = df_dac['indicator']\n",
    "df_dealca['covid_deaths'] = df_dac['covid_deaths']\n",
    "df_dealca['total_deaths'] = df_dac['total_deaths']\n",
    "\n",
    "df_dealca.head()"
   ]
  },
  {
   "cell_type": "markdown",
   "metadata": {},
   "source": [
    "The next step is to create two different subsets, one with the data grouped by state and another by group age"
   ]
  },
  {
   "cell_type": "code",
   "execution_count": 7,
   "metadata": {},
   "outputs": [],
   "source": [
    "df_dealca_state = df_dealca.loc[df_dealca['group'] == \"By state\", ['indicator', 'covid_deaths', 'total_deaths']]\n",
    "df_dealca_age = df_dealca.loc[df_dealca['group'] == \"By age\", ['indicator', 'covid_deaths', 'total_deaths']]\n",
    "\n",
    "df_dealca_state = df_dealca_state.iloc[1:]\n",
    "\n",
    "df_dealca_state = df_dealca_state.reset_index(drop=True)\n",
    "df_dealca_age = df_dealca_age.reset_index(drop=True)\n"
   ]
  },
  {
   "cell_type": "markdown",
   "metadata": {},
   "source": [
    "We save both dataframes in pickles"
   ]
  },
  {
   "cell_type": "code",
   "execution_count": 12,
   "metadata": {},
   "outputs": [],
   "source": [
    "df_dealca_state.to_pickle(\"../../Pickles/deaths_all_causes_bystate.pkl\")\n",
    "df_dealca_age.to_pickle(\"../../Pickles/deaths_allcauses_byage.pkl\")"
   ]
  },
  {
   "cell_type": "markdown",
   "metadata": {},
   "source": [
    "We verify that it works"
   ]
  },
  {
   "cell_type": "code",
   "execution_count": 13,
   "metadata": {
    "scrolled": true
   },
   "outputs": [
    {
     "data": {
      "text/html": [
       "<div>\n",
       "<style scoped>\n",
       "    .dataframe tbody tr th:only-of-type {\n",
       "        vertical-align: middle;\n",
       "    }\n",
       "\n",
       "    .dataframe tbody tr th {\n",
       "        vertical-align: top;\n",
       "    }\n",
       "\n",
       "    .dataframe thead th {\n",
       "        text-align: right;\n",
       "    }\n",
       "</style>\n",
       "<table border=\"1\" class=\"dataframe\">\n",
       "  <thead>\n",
       "    <tr style=\"text-align: right;\">\n",
       "      <th></th>\n",
       "      <th>indicator</th>\n",
       "      <th>covid_deaths</th>\n",
       "      <th>total_deaths</th>\n",
       "    </tr>\n",
       "  </thead>\n",
       "  <tbody>\n",
       "    <tr>\n",
       "      <th>0</th>\n",
       "      <td>Alabama</td>\n",
       "      <td>7</td>\n",
       "      <td>8842</td>\n",
       "    </tr>\n",
       "    <tr>\n",
       "      <th>1</th>\n",
       "      <td>Alaska</td>\n",
       "      <td>1</td>\n",
       "      <td>613</td>\n",
       "    </tr>\n",
       "    <tr>\n",
       "      <th>2</th>\n",
       "      <td>Arizona</td>\n",
       "      <td>26</td>\n",
       "      <td>11862</td>\n",
       "    </tr>\n",
       "    <tr>\n",
       "      <th>3</th>\n",
       "      <td>Arkansas</td>\n",
       "      <td>3</td>\n",
       "      <td>5939</td>\n",
       "    </tr>\n",
       "    <tr>\n",
       "      <th>4</th>\n",
       "      <td>California</td>\n",
       "      <td>135</td>\n",
       "      <td>50784</td>\n",
       "    </tr>\n",
       "  </tbody>\n",
       "</table>\n",
       "</div>"
      ],
      "text/plain": [
       "    indicator covid_deaths total_deaths\n",
       "0     Alabama            7         8842\n",
       "1      Alaska            1          613\n",
       "2     Arizona           26        11862\n",
       "3    Arkansas            3         5939\n",
       "4  California          135        50784"
      ]
     },
     "execution_count": 13,
     "metadata": {},
     "output_type": "execute_result"
    }
   ],
   "source": [
    "df_states = pd.read_pickle(\"../../Pickles/deaths_all_causes_bystate.pkl\")\n",
    "df_states.head()"
   ]
  },
  {
   "cell_type": "code",
   "execution_count": 14,
   "metadata": {},
   "outputs": [
    {
     "data": {
      "text/html": [
       "<div>\n",
       "<style scoped>\n",
       "    .dataframe tbody tr th:only-of-type {\n",
       "        vertical-align: middle;\n",
       "    }\n",
       "\n",
       "    .dataframe tbody tr th {\n",
       "        vertical-align: top;\n",
       "    }\n",
       "\n",
       "    .dataframe thead th {\n",
       "        text-align: right;\n",
       "    }\n",
       "</style>\n",
       "<table border=\"1\" class=\"dataframe\">\n",
       "  <thead>\n",
       "    <tr style=\"text-align: right;\">\n",
       "      <th></th>\n",
       "      <th>indicator</th>\n",
       "      <th>covid_deaths</th>\n",
       "      <th>total_deaths</th>\n",
       "    </tr>\n",
       "  </thead>\n",
       "  <tbody>\n",
       "    <tr>\n",
       "      <th>0</th>\n",
       "      <td>All ages</td>\n",
       "      <td>3307</td>\n",
       "      <td>490389</td>\n",
       "    </tr>\n",
       "    <tr>\n",
       "      <th>1</th>\n",
       "      <td>Under 1 year</td>\n",
       "      <td>0</td>\n",
       "      <td>2605</td>\n",
       "    </tr>\n",
       "    <tr>\n",
       "      <th>2</th>\n",
       "      <td>1&amp;ndash;4 years</td>\n",
       "      <td>1</td>\n",
       "      <td>529</td>\n",
       "    </tr>\n",
       "    <tr>\n",
       "      <th>3</th>\n",
       "      <td>5&amp;ndash;14 years</td>\n",
       "      <td>0</td>\n",
       "      <td>769</td>\n",
       "    </tr>\n",
       "    <tr>\n",
       "      <th>4</th>\n",
       "      <td>15&amp;ndash;24 years</td>\n",
       "      <td>4</td>\n",
       "      <td>4431</td>\n",
       "    </tr>\n",
       "  </tbody>\n",
       "</table>\n",
       "</div>"
      ],
      "text/plain": [
       "           indicator covid_deaths total_deaths\n",
       "0           All ages         3307       490389\n",
       "1       Under 1 year            0         2605\n",
       "2    1&ndash;4 years            1          529\n",
       "3   5&ndash;14 years            0          769\n",
       "4  15&ndash;24 years            4         4431"
      ]
     },
     "execution_count": 14,
     "metadata": {},
     "output_type": "execute_result"
    }
   ],
   "source": [
    "df_ages = pd.read_pickle(\"../../Pickles/deaths_allcauses_byage.pkl\")\n",
    "df_ages.head()"
   ]
  },
  {
   "cell_type": "markdown",
   "metadata": {},
   "source": [
    "We also save the our initial dataframe, in case we want to access data grouped by week later on"
   ]
  },
  {
   "cell_type": "code",
   "execution_count": 15,
   "metadata": {},
   "outputs": [
    {
     "data": {
      "text/html": [
       "<div>\n",
       "<style scoped>\n",
       "    .dataframe tbody tr th:only-of-type {\n",
       "        vertical-align: middle;\n",
       "    }\n",
       "\n",
       "    .dataframe tbody tr th {\n",
       "        vertical-align: top;\n",
       "    }\n",
       "\n",
       "    .dataframe thead th {\n",
       "        text-align: right;\n",
       "    }\n",
       "</style>\n",
       "<table border=\"1\" class=\"dataframe\">\n",
       "  <thead>\n",
       "    <tr style=\"text-align: right;\">\n",
       "      <th></th>\n",
       "      <th>group</th>\n",
       "      <th>indicator</th>\n",
       "      <th>covid_deaths</th>\n",
       "      <th>total_deaths</th>\n",
       "    </tr>\n",
       "  </thead>\n",
       "  <tbody>\n",
       "    <tr>\n",
       "      <th>0</th>\n",
       "      <td>By week</td>\n",
       "      <td>Total Deaths</td>\n",
       "      <td>3307</td>\n",
       "      <td>490389</td>\n",
       "    </tr>\n",
       "    <tr>\n",
       "      <th>1</th>\n",
       "      <td>By week</td>\n",
       "      <td>2/1/2020</td>\n",
       "      <td>0</td>\n",
       "      <td>56266</td>\n",
       "    </tr>\n",
       "    <tr>\n",
       "      <th>2</th>\n",
       "      <td>By week</td>\n",
       "      <td>2/8/2020</td>\n",
       "      <td>0</td>\n",
       "      <td>56587</td>\n",
       "    </tr>\n",
       "    <tr>\n",
       "      <th>3</th>\n",
       "      <td>By week</td>\n",
       "      <td>2/15/2020</td>\n",
       "      <td>0</td>\n",
       "      <td>55189</td>\n",
       "    </tr>\n",
       "    <tr>\n",
       "      <th>4</th>\n",
       "      <td>By week</td>\n",
       "      <td>2/22/2020</td>\n",
       "      <td>0</td>\n",
       "      <td>54761</td>\n",
       "    </tr>\n",
       "  </tbody>\n",
       "</table>\n",
       "</div>"
      ],
      "text/plain": [
       "     group     indicator covid_deaths total_deaths\n",
       "0  By week  Total Deaths         3307       490389\n",
       "1  By week      2/1/2020            0        56266\n",
       "2  By week      2/8/2020            0        56587\n",
       "3  By week     2/15/2020            0        55189\n",
       "4  By week     2/22/2020            0        54761"
      ]
     },
     "execution_count": 15,
     "metadata": {},
     "output_type": "execute_result"
    }
   ],
   "source": [
    "df_dealca.to_pickle(\"../../Pickles/cdc_deaths_all_causes.pkl\")\n",
    "df = pd.read_pickle(\"../../Pickles/cdc_deaths_all_causes.pkl\")\n",
    "df.head()"
   ]
  },
  {
   "cell_type": "code",
   "execution_count": null,
   "metadata": {},
   "outputs": [],
   "source": []
  }
 ],
 "metadata": {
  "kernelspec": {
   "display_name": "Python 3",
   "language": "python",
   "name": "python3"
  },
  "language_info": {
   "codemirror_mode": {
    "name": "ipython",
    "version": 3
   },
   "file_extension": ".py",
   "mimetype": "text/x-python",
   "name": "python",
   "nbconvert_exporter": "python",
   "pygments_lexer": "ipython3",
   "version": "3.7.6"
  }
 },
 "nbformat": 4,
 "nbformat_minor": 4
}
