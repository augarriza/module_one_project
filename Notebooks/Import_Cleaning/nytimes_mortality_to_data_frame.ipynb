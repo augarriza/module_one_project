{
 "cells": [
  {
   "cell_type": "markdown",
   "metadata": {},
   "source": [
    "# Converting NY Times and Mortality datasets to data frames"
   ]
  },
  {
   "cell_type": "code",
   "execution_count": 2,
   "metadata": {},
   "outputs": [],
   "source": [
    "import pandas as pd"
   ]
  },
  {
   "cell_type": "markdown",
   "metadata": {},
   "source": [
    "## NY Times csv\n",
    " - convert csv to df\n",
    " - convert date to datetime\n",
    " - select last day of March for each state, since data is cumulative\n",
    " - pickle the data frame in the datasets folder "
   ]
  },
  {
   "cell_type": "code",
   "execution_count": 3,
   "metadata": {},
   "outputs": [],
   "source": [
    "ny_times_df = pd.read_csv(\"../../Datasets/nytimes_cumulative_covid_per_state.csv\")"
   ]
  },
  {
   "cell_type": "code",
   "execution_count": 5,
   "metadata": {},
   "outputs": [
    {
     "data": {
      "text/plain": [
       "date      object\n",
       "state     object\n",
       "fips       int64\n",
       "cases      int64\n",
       "deaths     int64\n",
       "dtype: object"
      ]
     },
     "execution_count": 5,
     "metadata": {},
     "output_type": "execute_result"
    }
   ],
   "source": [
    "ny_times_df.dtypes"
   ]
  },
  {
   "cell_type": "code",
   "execution_count": 9,
   "metadata": {},
   "outputs": [],
   "source": [
    "ny_times_df[\"date\"] = pd.to_datetime(ny_times_df[\"date\"])"
   ]
  },
  {
   "cell_type": "code",
   "execution_count": 11,
   "metadata": {},
   "outputs": [],
   "source": [
    "ny_times_final = ny_times_df.loc[ny_times_df[\"date\"]==\"2020-03-31\"]"
   ]
  },
  {
   "cell_type": "code",
   "execution_count": 12,
   "metadata": {},
   "outputs": [],
   "source": [
    "ny_times_final = ny_times_final.reset_index(drop=True)"
   ]
  },
  {
   "cell_type": "code",
   "execution_count": 13,
   "metadata": {},
   "outputs": [],
   "source": [
    "ny_times_final.to_pickle(\"../../Pickles/nytimes.pkl\")"
   ]
  },
  {
   "cell_type": "markdown",
   "metadata": {},
   "source": [
    "## Mortality txt\n",
    "- convert txt to df\n",
    "- clean df:\n",
    "    - remove columns that have no values (deaths, population, crude, rate)\n",
    "    - create new df from `total` rows that perform aggregation \n",
    "    - clean new df by deleting repeated columns and changing column names\n",
    "- pickle the data frame in datasets folder"
   ]
  },
  {
   "cell_type": "code",
   "execution_count": 14,
   "metadata": {},
   "outputs": [],
   "source": [
    "mortality_df = pd.read_table(\"../../Datasets/Mortality_March-February_2013-2018.txt\", delim_whitespace=True)"
   ]
  },
  {
   "cell_type": "code",
   "execution_count": 15,
   "metadata": {},
   "outputs": [
    {
     "data": {
      "text/html": [
       "<div>\n",
       "<style scoped>\n",
       "    .dataframe tbody tr th:only-of-type {\n",
       "        vertical-align: middle;\n",
       "    }\n",
       "\n",
       "    .dataframe tbody tr th {\n",
       "        vertical-align: top;\n",
       "    }\n",
       "\n",
       "    .dataframe thead th {\n",
       "        text-align: right;\n",
       "    }\n",
       "</style>\n",
       "<table border=\"1\" class=\"dataframe\">\n",
       "  <thead>\n",
       "    <tr style=\"text-align: right;\">\n",
       "      <th></th>\n",
       "      <th>Notes</th>\n",
       "      <th>State</th>\n",
       "      <th>State Code</th>\n",
       "      <th>Year</th>\n",
       "      <th>Year Code</th>\n",
       "      <th>Month</th>\n",
       "      <th>Month Code</th>\n",
       "      <th>Deaths</th>\n",
       "      <th>Population</th>\n",
       "      <th>Crude</th>\n",
       "      <th>Rate</th>\n",
       "    </tr>\n",
       "  </thead>\n",
       "  <tbody>\n",
       "    <tr>\n",
       "      <th>0</th>\n",
       "      <td>Alabama</td>\n",
       "      <td>01</td>\n",
       "      <td>2013</td>\n",
       "      <td>2013</td>\n",
       "      <td>Feb., 2013</td>\n",
       "      <td>2013/02</td>\n",
       "      <td>4147</td>\n",
       "      <td>Not</td>\n",
       "      <td>Applicable</td>\n",
       "      <td>Not</td>\n",
       "      <td>Applicable</td>\n",
       "    </tr>\n",
       "    <tr>\n",
       "      <th>1</th>\n",
       "      <td>Alabama</td>\n",
       "      <td>01</td>\n",
       "      <td>2013</td>\n",
       "      <td>2013</td>\n",
       "      <td>Mar., 2013</td>\n",
       "      <td>2013/03</td>\n",
       "      <td>4548</td>\n",
       "      <td>Not</td>\n",
       "      <td>Applicable</td>\n",
       "      <td>Not</td>\n",
       "      <td>Applicable</td>\n",
       "    </tr>\n",
       "    <tr>\n",
       "      <th>2</th>\n",
       "      <td>Total</td>\n",
       "      <td>Alabama</td>\n",
       "      <td>01</td>\n",
       "      <td>2013</td>\n",
       "      <td>2013</td>\n",
       "      <td>8695</td>\n",
       "      <td>Not</td>\n",
       "      <td>Applicable</td>\n",
       "      <td>Not</td>\n",
       "      <td>Applicable</td>\n",
       "      <td>NaN</td>\n",
       "    </tr>\n",
       "    <tr>\n",
       "      <th>3</th>\n",
       "      <td>Alabama</td>\n",
       "      <td>01</td>\n",
       "      <td>2014</td>\n",
       "      <td>2014</td>\n",
       "      <td>Feb., 2014</td>\n",
       "      <td>2014/02</td>\n",
       "      <td>3966</td>\n",
       "      <td>Not</td>\n",
       "      <td>Applicable</td>\n",
       "      <td>Not</td>\n",
       "      <td>Applicable</td>\n",
       "    </tr>\n",
       "    <tr>\n",
       "      <th>4</th>\n",
       "      <td>Alabama</td>\n",
       "      <td>01</td>\n",
       "      <td>2014</td>\n",
       "      <td>2014</td>\n",
       "      <td>Mar., 2014</td>\n",
       "      <td>2014/03</td>\n",
       "      <td>4288</td>\n",
       "      <td>Not</td>\n",
       "      <td>Applicable</td>\n",
       "      <td>Not</td>\n",
       "      <td>Applicable</td>\n",
       "    </tr>\n",
       "    <tr>\n",
       "      <th>5</th>\n",
       "      <td>Total</td>\n",
       "      <td>Alabama</td>\n",
       "      <td>01</td>\n",
       "      <td>2014</td>\n",
       "      <td>2014</td>\n",
       "      <td>8254</td>\n",
       "      <td>Not</td>\n",
       "      <td>Applicable</td>\n",
       "      <td>Not</td>\n",
       "      <td>Applicable</td>\n",
       "      <td>NaN</td>\n",
       "    </tr>\n",
       "    <tr>\n",
       "      <th>6</th>\n",
       "      <td>Alabama</td>\n",
       "      <td>01</td>\n",
       "      <td>2015</td>\n",
       "      <td>2015</td>\n",
       "      <td>Feb., 2015</td>\n",
       "      <td>2015/02</td>\n",
       "      <td>4447</td>\n",
       "      <td>Not</td>\n",
       "      <td>Applicable</td>\n",
       "      <td>Not</td>\n",
       "      <td>Applicable</td>\n",
       "    </tr>\n",
       "    <tr>\n",
       "      <th>7</th>\n",
       "      <td>Alabama</td>\n",
       "      <td>01</td>\n",
       "      <td>2015</td>\n",
       "      <td>2015</td>\n",
       "      <td>Mar., 2015</td>\n",
       "      <td>2015/03</td>\n",
       "      <td>4809</td>\n",
       "      <td>Not</td>\n",
       "      <td>Applicable</td>\n",
       "      <td>Not</td>\n",
       "      <td>Applicable</td>\n",
       "    </tr>\n",
       "    <tr>\n",
       "      <th>8</th>\n",
       "      <td>Total</td>\n",
       "      <td>Alabama</td>\n",
       "      <td>01</td>\n",
       "      <td>2015</td>\n",
       "      <td>2015</td>\n",
       "      <td>9256</td>\n",
       "      <td>Not</td>\n",
       "      <td>Applicable</td>\n",
       "      <td>Not</td>\n",
       "      <td>Applicable</td>\n",
       "      <td>NaN</td>\n",
       "    </tr>\n",
       "    <tr>\n",
       "      <th>9</th>\n",
       "      <td>Alabama</td>\n",
       "      <td>01</td>\n",
       "      <td>2016</td>\n",
       "      <td>2016</td>\n",
       "      <td>Feb., 2016</td>\n",
       "      <td>2016/02</td>\n",
       "      <td>4428</td>\n",
       "      <td>Not</td>\n",
       "      <td>Applicable</td>\n",
       "      <td>Not</td>\n",
       "      <td>Applicable</td>\n",
       "    </tr>\n",
       "  </tbody>\n",
       "</table>\n",
       "</div>"
      ],
      "text/plain": [
       "     Notes    State State Code  Year   Year Code    Month Month Code  \\\n",
       "0  Alabama       01       2013  2013  Feb., 2013  2013/02       4147   \n",
       "1  Alabama       01       2013  2013  Mar., 2013  2013/03       4548   \n",
       "2    Total  Alabama         01  2013        2013     8695        Not   \n",
       "3  Alabama       01       2014  2014  Feb., 2014  2014/02       3966   \n",
       "4  Alabama       01       2014  2014  Mar., 2014  2014/03       4288   \n",
       "5    Total  Alabama         01  2014        2014     8254        Not   \n",
       "6  Alabama       01       2015  2015  Feb., 2015  2015/02       4447   \n",
       "7  Alabama       01       2015  2015  Mar., 2015  2015/03       4809   \n",
       "8    Total  Alabama         01  2015        2015     9256        Not   \n",
       "9  Alabama       01       2016  2016  Feb., 2016  2016/02       4428   \n",
       "\n",
       "       Deaths  Population       Crude        Rate  \n",
       "0         Not  Applicable         Not  Applicable  \n",
       "1         Not  Applicable         Not  Applicable  \n",
       "2  Applicable         Not  Applicable         NaN  \n",
       "3         Not  Applicable         Not  Applicable  \n",
       "4         Not  Applicable         Not  Applicable  \n",
       "5  Applicable         Not  Applicable         NaN  \n",
       "6         Not  Applicable         Not  Applicable  \n",
       "7         Not  Applicable         Not  Applicable  \n",
       "8  Applicable         Not  Applicable         NaN  \n",
       "9         Not  Applicable         Not  Applicable  "
      ]
     },
     "execution_count": 15,
     "metadata": {},
     "output_type": "execute_result"
    }
   ],
   "source": [
    "mortality_df.head(10)"
   ]
  },
  {
   "cell_type": "code",
   "execution_count": 16,
   "metadata": {},
   "outputs": [],
   "source": [
    "mortality_df = mortality_df.drop(columns=[\"Deaths\", \"Population\", \"Crude\", \"Rate\"])"
   ]
  },
  {
   "cell_type": "code",
   "execution_count": 17,
   "metadata": {},
   "outputs": [],
   "source": [
    "agg_df = mortality_df.loc[mortality_df[\"Notes\"]==\"Total\"]"
   ]
  },
  {
   "cell_type": "code",
   "execution_count": 18,
   "metadata": {},
   "outputs": [],
   "source": [
    "agg_df = agg_df.reset_index(drop=True)"
   ]
  },
  {
   "cell_type": "code",
   "execution_count": 19,
   "metadata": {},
   "outputs": [],
   "source": [
    "agg_df = agg_df.drop(columns=[\"Notes\", \"Month Code\"])"
   ]
  },
  {
   "cell_type": "markdown",
   "metadata": {},
   "source": [
    "Discovered that Total includes the state totals for the 5 year period. Decided to drop those rows by finding rows where values have been shifted, since there is no year indication"
   ]
  },
  {
   "cell_type": "code",
   "execution_count": 20,
   "metadata": {},
   "outputs": [],
   "source": [
    "agg_df = agg_df.loc[agg_df[\"Year Code\"]!=\"Not\"]"
   ]
  },
  {
   "cell_type": "code",
   "execution_count": 21,
   "metadata": {},
   "outputs": [],
   "source": [
    "agg_df = agg_df.reset_index(drop=True)"
   ]
  },
  {
   "cell_type": "code",
   "execution_count": 22,
   "metadata": {},
   "outputs": [],
   "source": [
    "agg_df = agg_df.rename(columns={\"Month\":\"Deaths\"}).drop(columns=\"Year Code\")"
   ]
  },
  {
   "cell_type": "code",
   "execution_count": 23,
   "metadata": {},
   "outputs": [],
   "source": [
    "agg_df.to_pickle(\"../../Pickles/mortality_aggregation.pkl\")"
   ]
  }
 ],
 "metadata": {
  "kernelspec": {
   "display_name": "Python 3",
   "language": "python",
   "name": "python3"
  },
  "language_info": {
   "codemirror_mode": {
    "name": "ipython",
    "version": 3
   },
   "file_extension": ".py",
   "mimetype": "text/x-python",
   "name": "python",
   "nbconvert_exporter": "python",
   "pygments_lexer": "ipython3",
   "version": "3.7.6"
  }
 },
 "nbformat": 4,
 "nbformat_minor": 4
}
