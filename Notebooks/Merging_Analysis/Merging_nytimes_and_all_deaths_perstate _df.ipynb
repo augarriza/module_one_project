{
 "cells": [
  {
   "cell_type": "code",
   "execution_count": 1,
   "metadata": {},
   "outputs": [],
   "source": [
    "import pandas as pd\n"
   ]
  },
  {
   "cell_type": "markdown",
   "metadata": {},
   "source": [
    "We \"collect\" our data from our pickles"
   ]
  },
  {
   "cell_type": "code",
   "execution_count": 2,
   "metadata": {},
   "outputs": [],
   "source": [
    "df_nyt = pd.read_pickle(\"../../Pickles/nytimes.pkl\")\n",
    "df_cdc = pd.read_pickle(\"../../Pickles/deaths_all_causes_bystate.pkl\")"
   ]
  },
  {
   "cell_type": "markdown",
   "metadata": {},
   "source": [
    "Now we´re gonna rename some of the columns on our datasets"
   ]
  },
  {
   "cell_type": "code",
   "execution_count": 3,
   "metadata": {},
   "outputs": [],
   "source": [
    "df_nyt=df_nyt.rename(columns={\"cases\":\"covid_cases\", \"deaths\":\"nyt_covid_deaths\"})\n",
    "df_cdc=df_cdc.rename(columns={\"indicator\":\"state\", \"covid_deaths\":\"cdc_covid_deaths\", \"total_deaths\":\"cdc_total_deaths\"})"
   ]
  },
  {
   "cell_type": "code",
   "execution_count": 4,
   "metadata": {},
   "outputs": [],
   "source": [
    "#When verifying we pointed out that our nyt dataframe has more states\n",
    "#cdc_set = set(df_cdc[\"state\"])\n",
    "#nyt_set = set(df_nyt[\"state\"])\n",
    "#nyt_set & cdc_set\n",
    "\n",
    "#Instead of droping the rows for those \"states\" that are not included in our cdc dataframe, we´ll do an inner join"
   ]
  },
  {
   "cell_type": "code",
   "execution_count": 5,
   "metadata": {},
   "outputs": [
    {
     "data": {
      "text/html": [
       "<div>\n",
       "<style scoped>\n",
       "    .dataframe tbody tr th:only-of-type {\n",
       "        vertical-align: middle;\n",
       "    }\n",
       "\n",
       "    .dataframe tbody tr th {\n",
       "        vertical-align: top;\n",
       "    }\n",
       "\n",
       "    .dataframe thead th {\n",
       "        text-align: right;\n",
       "    }\n",
       "</style>\n",
       "<table border=\"1\" class=\"dataframe\">\n",
       "  <thead>\n",
       "    <tr style=\"text-align: right;\">\n",
       "      <th></th>\n",
       "      <th>date</th>\n",
       "      <th>state</th>\n",
       "      <th>fips</th>\n",
       "      <th>covid_cases</th>\n",
       "      <th>nyt_covid_deaths</th>\n",
       "    </tr>\n",
       "  </thead>\n",
       "  <tbody>\n",
       "    <tr>\n",
       "      <th>0</th>\n",
       "      <td>2020-03-31</td>\n",
       "      <td>Alabama</td>\n",
       "      <td>1</td>\n",
       "      <td>999</td>\n",
       "      <td>13</td>\n",
       "    </tr>\n",
       "    <tr>\n",
       "      <th>1</th>\n",
       "      <td>2020-03-31</td>\n",
       "      <td>Alaska</td>\n",
       "      <td>2</td>\n",
       "      <td>133</td>\n",
       "      <td>2</td>\n",
       "    </tr>\n",
       "    <tr>\n",
       "      <th>2</th>\n",
       "      <td>2020-03-31</td>\n",
       "      <td>Arizona</td>\n",
       "      <td>4</td>\n",
       "      <td>1298</td>\n",
       "      <td>24</td>\n",
       "    </tr>\n",
       "    <tr>\n",
       "      <th>3</th>\n",
       "      <td>2020-03-31</td>\n",
       "      <td>Arkansas</td>\n",
       "      <td>5</td>\n",
       "      <td>564</td>\n",
       "      <td>8</td>\n",
       "    </tr>\n",
       "    <tr>\n",
       "      <th>4</th>\n",
       "      <td>2020-03-31</td>\n",
       "      <td>California</td>\n",
       "      <td>6</td>\n",
       "      <td>8582</td>\n",
       "      <td>183</td>\n",
       "    </tr>\n",
       "  </tbody>\n",
       "</table>\n",
       "</div>"
      ],
      "text/plain": [
       "        date       state  fips  covid_cases  nyt_covid_deaths\n",
       "0 2020-03-31     Alabama     1          999                13\n",
       "1 2020-03-31      Alaska     2          133                 2\n",
       "2 2020-03-31     Arizona     4         1298                24\n",
       "3 2020-03-31    Arkansas     5          564                 8\n",
       "4 2020-03-31  California     6         8582               183"
      ]
     },
     "execution_count": 5,
     "metadata": {},
     "output_type": "execute_result"
    }
   ],
   "source": [
    "df_nyt.head()"
   ]
  },
  {
   "cell_type": "code",
   "execution_count": 6,
   "metadata": {},
   "outputs": [
    {
     "data": {
      "text/html": [
       "<div>\n",
       "<style scoped>\n",
       "    .dataframe tbody tr th:only-of-type {\n",
       "        vertical-align: middle;\n",
       "    }\n",
       "\n",
       "    .dataframe tbody tr th {\n",
       "        vertical-align: top;\n",
       "    }\n",
       "\n",
       "    .dataframe thead th {\n",
       "        text-align: right;\n",
       "    }\n",
       "</style>\n",
       "<table border=\"1\" class=\"dataframe\">\n",
       "  <thead>\n",
       "    <tr style=\"text-align: right;\">\n",
       "      <th></th>\n",
       "      <th>state</th>\n",
       "      <th>cdc_covid_deaths</th>\n",
       "      <th>cdc_total_deaths</th>\n",
       "    </tr>\n",
       "  </thead>\n",
       "  <tbody>\n",
       "    <tr>\n",
       "      <th>0</th>\n",
       "      <td>Alabama</td>\n",
       "      <td>7</td>\n",
       "      <td>8842</td>\n",
       "    </tr>\n",
       "    <tr>\n",
       "      <th>1</th>\n",
       "      <td>Alaska</td>\n",
       "      <td>1</td>\n",
       "      <td>613</td>\n",
       "    </tr>\n",
       "    <tr>\n",
       "      <th>2</th>\n",
       "      <td>Arizona</td>\n",
       "      <td>26</td>\n",
       "      <td>11862</td>\n",
       "    </tr>\n",
       "    <tr>\n",
       "      <th>3</th>\n",
       "      <td>Arkansas</td>\n",
       "      <td>3</td>\n",
       "      <td>5939</td>\n",
       "    </tr>\n",
       "    <tr>\n",
       "      <th>4</th>\n",
       "      <td>California</td>\n",
       "      <td>135</td>\n",
       "      <td>50784</td>\n",
       "    </tr>\n",
       "  </tbody>\n",
       "</table>\n",
       "</div>"
      ],
      "text/plain": [
       "        state cdc_covid_deaths cdc_total_deaths\n",
       "0     Alabama                7             8842\n",
       "1      Alaska                1              613\n",
       "2     Arizona               26            11862\n",
       "3    Arkansas                3             5939\n",
       "4  California              135            50784"
      ]
     },
     "execution_count": 6,
     "metadata": {},
     "output_type": "execute_result"
    }
   ],
   "source": [
    "df_cdc.head()"
   ]
  },
  {
   "cell_type": "markdown",
   "metadata": {},
   "source": [
    "Now we merge both dataframes on the state column. \n",
    "We then drop \"date\" and \"fips\" columns from our new merged dataframe: \n",
    "-\"fips\" refers to geographical indentifiers which are of no interest for our analysis.\n",
    "-\"date\" is of no value either since we already summed up the number of cases and covid deaths based on our chosen time frame for this analysis."
   ]
  },
  {
   "cell_type": "code",
   "execution_count": 7,
   "metadata": {
    "scrolled": true
   },
   "outputs": [],
   "source": [
    "df_merged = df_nyt.merge(df_cdc, on=\"state\")\n",
    "df_nyt_cdc = df_merged.drop(columns=[\"date\", \"fips\"])\n",
    "\n",
    "df_nyt_cdc = df_nyt_cdc.astype({\"cdc_covid_deaths\":\"int64\",\"cdc_total_deaths\":\"int64\" })\n",
    "\n",
    "\n",
    "\n"
   ]
  },
  {
   "cell_type": "markdown",
   "metadata": {},
   "source": [
    "Time to save our new dataframe in a pickle"
   ]
  },
  {
   "cell_type": "code",
   "execution_count": 8,
   "metadata": {},
   "outputs": [],
   "source": [
    "df_nyt_cdc.to_pickle(\"../../Pickles/nytimes_cdcapi_combined.pkl\")"
   ]
  },
  {
   "cell_type": "markdown",
   "metadata": {},
   "source": [
    "And we verify that it worked"
   ]
  },
  {
   "cell_type": "code",
   "execution_count": 9,
   "metadata": {},
   "outputs": [
    {
     "data": {
      "text/html": [
       "<div>\n",
       "<style scoped>\n",
       "    .dataframe tbody tr th:only-of-type {\n",
       "        vertical-align: middle;\n",
       "    }\n",
       "\n",
       "    .dataframe tbody tr th {\n",
       "        vertical-align: top;\n",
       "    }\n",
       "\n",
       "    .dataframe thead th {\n",
       "        text-align: right;\n",
       "    }\n",
       "</style>\n",
       "<table border=\"1\" class=\"dataframe\">\n",
       "  <thead>\n",
       "    <tr style=\"text-align: right;\">\n",
       "      <th></th>\n",
       "      <th>state</th>\n",
       "      <th>covid_cases</th>\n",
       "      <th>nyt_covid_deaths</th>\n",
       "      <th>cdc_covid_deaths</th>\n",
       "      <th>cdc_total_deaths</th>\n",
       "    </tr>\n",
       "  </thead>\n",
       "  <tbody>\n",
       "    <tr>\n",
       "      <th>0</th>\n",
       "      <td>Alabama</td>\n",
       "      <td>999</td>\n",
       "      <td>13</td>\n",
       "      <td>7</td>\n",
       "      <td>8842</td>\n",
       "    </tr>\n",
       "    <tr>\n",
       "      <th>1</th>\n",
       "      <td>Alaska</td>\n",
       "      <td>133</td>\n",
       "      <td>2</td>\n",
       "      <td>1</td>\n",
       "      <td>613</td>\n",
       "    </tr>\n",
       "    <tr>\n",
       "      <th>2</th>\n",
       "      <td>Arizona</td>\n",
       "      <td>1298</td>\n",
       "      <td>24</td>\n",
       "      <td>26</td>\n",
       "      <td>11862</td>\n",
       "    </tr>\n",
       "    <tr>\n",
       "      <th>3</th>\n",
       "      <td>Arkansas</td>\n",
       "      <td>564</td>\n",
       "      <td>8</td>\n",
       "      <td>3</td>\n",
       "      <td>5939</td>\n",
       "    </tr>\n",
       "    <tr>\n",
       "      <th>4</th>\n",
       "      <td>California</td>\n",
       "      <td>8582</td>\n",
       "      <td>183</td>\n",
       "      <td>135</td>\n",
       "      <td>50784</td>\n",
       "    </tr>\n",
       "  </tbody>\n",
       "</table>\n",
       "</div>"
      ],
      "text/plain": [
       "        state  covid_cases  nyt_covid_deaths  cdc_covid_deaths  \\\n",
       "0     Alabama          999                13                 7   \n",
       "1      Alaska          133                 2                 1   \n",
       "2     Arizona         1298                24                26   \n",
       "3    Arkansas          564                 8                 3   \n",
       "4  California         8582               183               135   \n",
       "\n",
       "   cdc_total_deaths  \n",
       "0              8842  \n",
       "1               613  \n",
       "2             11862  \n",
       "3              5939  \n",
       "4             50784  "
      ]
     },
     "execution_count": 9,
     "metadata": {},
     "output_type": "execute_result"
    }
   ],
   "source": [
    "my_df = pd.read_pickle(\"../../Pickles/nytimes_cdcapi_combined.pkl\")\n",
    "my_df.head()"
   ]
  },
  {
   "cell_type": "code",
   "execution_count": null,
   "metadata": {},
   "outputs": [],
   "source": []
  }
 ],
 "metadata": {
  "kernelspec": {
   "display_name": "Python 3",
   "language": "python",
   "name": "python3"
  },
  "language_info": {
   "codemirror_mode": {
    "name": "ipython",
    "version": 3
   },
   "file_extension": ".py",
   "mimetype": "text/x-python",
   "name": "python",
   "nbconvert_exporter": "python",
   "pygments_lexer": "ipython3",
   "version": "3.7.6"
  }
 },
 "nbformat": 4,
 "nbformat_minor": 4
}
